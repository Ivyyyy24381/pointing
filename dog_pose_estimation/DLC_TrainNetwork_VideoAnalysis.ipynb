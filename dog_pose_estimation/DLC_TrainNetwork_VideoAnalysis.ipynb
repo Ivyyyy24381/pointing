{
 "cells": [
  {
   "cell_type": "markdown",
   "metadata": {
    "colab_type": "text",
    "id": "RK255E7YoEIt"
   },
   "source": [
    "# DeepLabCut Toolbox\n",
    "https://github.com/AlexEMG/DeepLabCut\n",
    "\n",
    "This (modified) notebook illustrates how to use DLC to:\n",
    "- create a training set\n",
    "- train a network\n",
    "- evaluate a network\n",
    "- create simple quality check plots\n",
    "- analyze novel videos!\n",
    "\n",
    "This shows the most simple code to do so, but many of the functions have additional features, so check out the overview & the protocol paper!\n",
    "\n",
    "Nath\\*, Mathis\\* et al.: Using DeepLabCut for markerless pose estimation during behavior across species. Nature Protocols, 2019.\n",
    "\n",
    "Paper: https://www.biorxiv.org/content/biorxiv/early/2018/11/24/476531.full.pdf"
   ]
  },
  {
   "cell_type": "markdown",
   "metadata": {},
   "source": [
    "## Import DeepLabCut\n",
    "This step assumes that you have installed DeepLabCut using the DLC-CPU.yaml conda config file. \n",
    "\n",
    "1. Install [Anaconda 3](https://www.anaconda.com/distribution/) if you don't have it already\n",
    "2. Download DLC's [conda file for CPU](https://github.com/DeepLabCut/DeepLabCut/blob/master/conda-environments/DLC-CPU.yaml)\n",
    "3. Open terminal where you placed the file and run `conda env create -f DLC-CPU.yaml`"
   ]
  },
  {
   "cell_type": "code",
   "execution_count": 3,
   "metadata": {
    "colab": {},
    "colab_type": "code",
    "id": "3K9Ndy1beyfG",
    "scrolled": true
   },
   "outputs": [
    {
     "name": "stdout",
     "output_type": "stream",
     "text": [
      "Loading DLC 3.0.0rc7...\n",
      "DLC loaded in light mode; you cannot use any GUI (labeling, relabeling and standalone GUI)\n"
     ]
    }
   ],
   "source": [
    "import deeplabcut"
   ]
  },
  {
   "cell_type": "code",
   "execution_count": 4,
   "metadata": {
    "scrolled": false
   },
   "outputs": [
    {
     "name": "stdout",
     "output_type": "stream",
     "text": [
      "Project \"/home/xhe71/Documents/GitHub/pointing/dog_pose_estimation/dlc-dog-pose-ivy-2025-04-09\" already exists!\n"
     ]
    },
    {
     "data": {
      "text/plain": [
       "'/home/xhe71/Documents/GitHub/pointing/dog_pose_estimation/dlc-dog-pose-ivy-2025-04-09/config.yaml'"
      ]
     },
     "execution_count": 4,
     "metadata": {},
     "output_type": "execute_result"
    }
   ],
   "source": [
    "# update the paths to your video files\n",
    "# PLEASE EDIT THESE:\n",
    "path = 'train'\n",
    "deeplabcut.create_new_project(f'dlc-dog-pose','ivy', \\\n",
    "                              [f'{path}/coco_train01.mov', \\\n",
    "                               f'{path}/coco_train02.mov', \\\n",
    "                               f'{path}/coco_train03.mov', \\\n",
    "                               f'{path}/coco_train04.mov', \\\n",
    "                               f'{path}/coco_train05.mov', \\\n",
    "                               f'{path}/coco_train06.mov', \\\n",
    "                               f'{path}/coco_train07.mov', \\\n",
    "                               f'{path}/coco_train08.mov', \\\n",
    "                               f'{path}/coco_train09.mov', \\\n",
    "                               f'{path}/coco_train10.mov'],\n",
    "              copy_videos=True, multianimal=False)"
   ]
  },
  {
   "cell_type": "code",
   "execution_count": 5,
   "metadata": {},
   "outputs": [],
   "source": [
    "# Setup your project variables:\n",
    "# PLEASE EDIT THESE:\n",
    "ProjectFolderName = 'PVP-dog-pose'\n",
    "VideoType = 'mov' "
   ]
  },
  {
   "cell_type": "code",
   "execution_count": 8,
   "metadata": {
    "colab": {},
    "colab_type": "code",
    "id": "Z7ZlDr3wV4D1"
   },
   "outputs": [
    {
     "data": {
      "text/plain": [
       "'dlc-dog-pose-ivy-2025-04-09/config.yaml'"
      ]
     },
     "execution_count": 8,
     "metadata": {},
     "output_type": "execute_result"
    }
   ],
   "source": [
    "# This creates a path variable to your project's config.yaml file\n",
    "path_config_file = 'dlc-dog-pose-ivy-2025-04-09/config.yaml'\n",
    "path_config_file"
   ]
  },
  {
   "cell_type": "markdown",
   "metadata": {},
   "source": [
    "### Edit the config.yaml file to add body parts. I labeled these parts of my dog:\n",
    "```\n",
    "bodyparts:\n",
    "- nose\n",
    "- leftear\n",
    "- rightear\n",
    "- collar\n",
    "- spine1\n",
    "- spine2\n",
    "- spine3\n",
    "- tailstart\n",
    "- tailend\n",
    "- frontleftleg\n",
    "- frontleftpaw\n",
    "- frontrightleg\n",
    "- frontrightpaw\n",
    "- backleftleg\n",
    "- backleftpaw\n",
    "- backrightleg\n",
    "- backrightpaw\n",
    "```"
   ]
  },
  {
   "cell_type": "code",
   "execution_count": 9,
   "metadata": {
    "scrolled": false
   },
   "outputs": [
    {
     "name": "stdout",
     "output_type": "stream",
     "text": [
      "Config file read successfully.\n",
      "Do you want to extract (perhaps additional) frames for video: /home/xhe71/Documents/GitHub/pointing/dog_pose_estimation/dlc-dog-pose-ivy-2025-04-09/videos/coco_train01.mov ?\n",
      "Extracting frames based on kmeans ...\n",
      "Kmeans-quantization based extracting of frames from 0.0  seconds to 7.77  seconds.\n",
      "Extracting and downsampling... 222  frames from the video.\n"
     ]
    },
    {
     "name": "stderr",
     "output_type": "stream",
     "text": [
      "222it [00:00, 1377.34it/s]"
     ]
    },
    {
     "name": "stdout",
     "output_type": "stream",
     "text": [
      "Kmeans clustering ... (this might take a while)\n"
     ]
    },
    {
     "name": "stderr",
     "output_type": "stream",
     "text": [
      "\n"
     ]
    },
    {
     "name": "stdout",
     "output_type": "stream",
     "text": [
      "Frame 212  not found!\n",
      "Frame 205  not found!\n",
      "Do you want to extract (perhaps additional) frames for video: /home/xhe71/Documents/GitHub/pointing/dog_pose_estimation/dlc-dog-pose-ivy-2025-04-09/videos/coco_train02.mov ?\n",
      "Extracting frames based on kmeans ...\n",
      "Kmeans-quantization based extracting of frames from 0.0  seconds to 9.04  seconds.\n",
      "Extracting and downsampling... 271  frames from the video.\n"
     ]
    },
    {
     "name": "stderr",
     "output_type": "stream",
     "text": [
      "271it [00:00, 1633.48it/s]"
     ]
    },
    {
     "name": "stdout",
     "output_type": "stream",
     "text": [
      "Kmeans clustering ... (this might take a while)\n"
     ]
    },
    {
     "name": "stderr",
     "output_type": "stream",
     "text": [
      "\n"
     ]
    },
    {
     "name": "stdout",
     "output_type": "stream",
     "text": [
      "Do you want to extract (perhaps additional) frames for video: /home/xhe71/Documents/GitHub/pointing/dog_pose_estimation/dlc-dog-pose-ivy-2025-04-09/videos/coco_train03.mov ?\n",
      "Extracting frames based on kmeans ...\n",
      "Kmeans-quantization based extracting of frames from 0.0  seconds to 10.44  seconds.\n",
      "Extracting and downsampling... 306  frames from the video.\n"
     ]
    },
    {
     "name": "stderr",
     "output_type": "stream",
     "text": [
      "306it [00:00, 1669.89it/s]"
     ]
    },
    {
     "name": "stdout",
     "output_type": "stream",
     "text": [
      "Kmeans clustering ... (this might take a while)\n"
     ]
    },
    {
     "name": "stderr",
     "output_type": "stream",
     "text": [
      "\n",
      "/home/xhe71/mambaforge/envs/DEEPLABCUT/lib/python3.10/site-packages/numpy/core/_methods.py:176: RuntimeWarning: overflow encountered in multiply\n",
      "  x = um.multiply(x, x, out=x)\n",
      "/home/xhe71/mambaforge/envs/DEEPLABCUT/lib/python3.10/site-packages/sklearn/utils/extmath.py:203: RuntimeWarning: overflow encountered in matmul\n",
      "  ret = a @ b\n",
      "/home/xhe71/mambaforge/envs/DEEPLABCUT/lib/python3.10/site-packages/sklearn/metrics/pairwise.py:425: RuntimeWarning: invalid value encountered in add\n",
      "  distances += XX\n",
      "/home/xhe71/mambaforge/envs/DEEPLABCUT/lib/python3.10/site-packages/sklearn/cluster/_kmeans.py:2169: RuntimeWarning: overflow encountered in square\n",
      "  centers_squared_diff = np.sum((centers_new - centers) ** 2)\n"
     ]
    },
    {
     "name": "stdout",
     "output_type": "stream",
     "text": [
      "Do you want to extract (perhaps additional) frames for video: /home/xhe71/Documents/GitHub/pointing/dog_pose_estimation/dlc-dog-pose-ivy-2025-04-09/videos/coco_train04.mov ?\n",
      "Extracting frames based on kmeans ...\n",
      "Kmeans-quantization based extracting of frames from 0.0  seconds to 12.91  seconds.\n",
      "Extracting and downsampling... 374  frames from the video.\n"
     ]
    },
    {
     "name": "stderr",
     "output_type": "stream",
     "text": [
      "374it [00:00, 1575.35it/s]\n",
      "/home/xhe71/mambaforge/envs/DEEPLABCUT/lib/python3.10/site-packages/numpy/core/_methods.py:176: RuntimeWarning: overflow encountered in multiply\n",
      "  x = um.multiply(x, x, out=x)\n",
      "/home/xhe71/mambaforge/envs/DEEPLABCUT/lib/python3.10/site-packages/sklearn/utils/extmath.py:203: RuntimeWarning: overflow encountered in matmul\n",
      "  ret = a @ b\n",
      "/home/xhe71/mambaforge/envs/DEEPLABCUT/lib/python3.10/site-packages/sklearn/utils/extmath.py:203: RuntimeWarning: invalid value encountered in matmul\n",
      "  ret = a @ b\n",
      "/home/xhe71/mambaforge/envs/DEEPLABCUT/lib/python3.10/site-packages/sklearn/metrics/pairwise.py:425: RuntimeWarning: invalid value encountered in add\n",
      "  distances += XX\n",
      "/home/xhe71/mambaforge/envs/DEEPLABCUT/lib/python3.10/site-packages/sklearn/cluster/_kmeans.py:2169: RuntimeWarning: overflow encountered in square\n",
      "  centers_squared_diff = np.sum((centers_new - centers) ** 2)\n"
     ]
    },
    {
     "name": "stdout",
     "output_type": "stream",
     "text": [
      "Kmeans clustering ... (this might take a while)\n",
      "Do you want to extract (perhaps additional) frames for video: /home/xhe71/Documents/GitHub/pointing/dog_pose_estimation/dlc-dog-pose-ivy-2025-04-09/videos/coco_train05.mov ?\n"
     ]
    },
    {
     "ename": "SystemExit",
     "evalue": "Delete the frames and try again later!",
     "output_type": "error",
     "traceback": [
      "An exception has occurred, use %tb to see the full traceback.\n",
      "\u001b[0;31mSystemExit\u001b[0m\u001b[0;31m:\u001b[0m Delete the frames and try again later!\n"
     ]
    },
    {
     "name": "stderr",
     "output_type": "stream",
     "text": [
      "/home/xhe71/.local/lib/python3.10/site-packages/IPython/core/interactiveshell.py:3585: UserWarning: To exit: use 'exit', 'quit', or Ctrl-D.\n",
      "  warn(\"To exit: use 'exit', 'quit', or Ctrl-D.\", stacklevel=1)\n"
     ]
    }
   ],
   "source": [
    "# This step is to extract frames from the videos you added to the project\n",
    "deeplabcut.extract_frames(path_config_file, mode='automatic', algo='kmeans', crop=True)"
   ]
  },
  {
   "cell_type": "code",
   "execution_count": 14,
   "metadata": {},
   "outputs": [
    {
     "ename": "ImportError",
     "evalue": "cannot import name 'label_frames_napari' from 'deeplabcut' (/home/xhe71/mambaforge/envs/DEEPLABCUT/lib/python3.10/site-packages/deeplabcut/__init__.py)",
     "output_type": "error",
     "traceback": [
      "\u001b[0;31m---------------------------------------------------------------------------\u001b[0m",
      "\u001b[0;31mImportError\u001b[0m                               Traceback (most recent call last)",
      "Cell \u001b[0;32mIn[14], line 3\u001b[0m\n\u001b[1;32m      1\u001b[0m \u001b[38;5;66;03m# Label your frames\u001b[39;00m\n\u001b[1;32m      2\u001b[0m \u001b[38;5;66;03m# IMPORTANT: You must run this step from a computer with a display or use VNC (GUI required)\u001b[39;00m\n\u001b[0;32m----> 3\u001b[0m \u001b[38;5;28;01mfrom\u001b[39;00m\u001b[38;5;250m \u001b[39m\u001b[38;5;21;01mdeeplabcut\u001b[39;00m\u001b[38;5;250m \u001b[39m\u001b[38;5;28;01mimport\u001b[39;00m label_frames_napari\n\u001b[1;32m      5\u001b[0m deeplabcut\u001b[38;5;241m.\u001b[39mlabel_frames_napari(\u001b[38;5;124m\"\u001b[39m\u001b[38;5;124mdlc-dog-pose-ivy-2025-04-09/config.yaml\u001b[39m\u001b[38;5;124m\"\u001b[39m)\n\u001b[1;32m      6\u001b[0m \u001b[38;5;66;03m# deeplabcut.extract_frames(\u001b[39;00m\n\u001b[1;32m      7\u001b[0m \u001b[38;5;66;03m#     \"dlc-dog-pose-ivy-2025-04-09/config.yaml\",\u001b[39;00m\n\u001b[1;32m      8\u001b[0m \u001b[38;5;66;03m#     mode=\"manual\"\u001b[39;00m\n\u001b[1;32m      9\u001b[0m \u001b[38;5;66;03m# )\u001b[39;00m\n",
      "\u001b[0;31mImportError\u001b[0m: cannot import name 'label_frames_napari' from 'deeplabcut' (/home/xhe71/mambaforge/envs/DEEPLABCUT/lib/python3.10/site-packages/deeplabcut/__init__.py)"
     ]
    }
   ],
   "source": [
    "# Label your frames\n",
    "# IMPORTANT: You must run this step from a computer with a display or use VNC (GUI required)\n",
    "from deeplabcut import label_frames_napari\n",
    "\n",
    "deeplabcut.label_frames_napari(\"dlc-dog-pose-ivy-2025-04-09/config.yaml\")\n",
    "# deeplabcut.extract_frames(\n",
    "#     \"dlc-dog-pose-ivy-2025-04-09/config.yaml\",\n",
    "#     mode=\"manual\"\n",
    "# )"
   ]
  },
  {
   "cell_type": "markdown",
   "metadata": {
    "colab_type": "text",
    "id": "xNi9s1dboEJN"
   },
   "source": [
    "## Create a training dataset:\n",
    "After running this script the training dataset is created and saved in the project directory under the subdirectory **'training-datasets'**\n",
    "\n",
    "This function also creates new subdirectories under **dlc-models** and appends the project config.yaml file with the correct path to the training and testing pose configuration file. These files hold the parameters for training the network. Such an example file is provided with the toolbox and named as **pose_cfg.yaml**.\n",
    "\n",
    "Now it is the time to start training the network!"
   ]
  },
  {
   "cell_type": "code",
   "execution_count": 5,
   "metadata": {
    "colab": {},
    "colab_type": "code",
    "id": "eMeUwgxPoEJP",
    "scrolled": true
   },
   "outputs": [
    {
     "ename": "FileNotFoundError",
     "evalue": "Config file at config.yaml not found. Please make sure that the file exists and/or that you passed the path of the config file correctly!",
     "output_type": "error",
     "traceback": [
      "\u001b[0;31m---------------------------------------------------------------------------\u001b[0m",
      "\u001b[0;31mFileNotFoundError\u001b[0m                         Traceback (most recent call last)",
      "Cell \u001b[0;32mIn[5], line 3\u001b[0m\n\u001b[1;32m      1\u001b[0m \u001b[38;5;66;03m# There are many more functions you can set here, including which network you use\u001b[39;00m\n\u001b[1;32m      2\u001b[0m \u001b[38;5;66;03m# check the docstring for full options you can use\u001b[39;00m\n\u001b[0;32m----> 3\u001b[0m \u001b[43mdeeplabcut\u001b[49m\u001b[38;5;241;43m.\u001b[39;49m\u001b[43mcreate_training_dataset\u001b[49m\u001b[43m(\u001b[49m\u001b[43mpath_config_file\u001b[49m\u001b[43m,\u001b[49m\u001b[43m \u001b[49m\u001b[43mnet_type\u001b[49m\u001b[38;5;241;43m=\u001b[39;49m\u001b[38;5;124;43m'\u001b[39;49m\u001b[38;5;124;43mresnet_50\u001b[39;49m\u001b[38;5;124;43m'\u001b[39;49m\u001b[43m,\u001b[49m\u001b[43m \u001b[49m\u001b[43maugmenter_type\u001b[49m\u001b[38;5;241;43m=\u001b[39;49m\u001b[38;5;124;43m'\u001b[39;49m\u001b[38;5;124;43mimgaug\u001b[39;49m\u001b[38;5;124;43m'\u001b[39;49m\u001b[43m)\u001b[49m\n",
      "File \u001b[0;32m~/mambaforge/envs/DEEPLABCUT/lib/python3.10/site-packages/deeplabcut/generate_training_dataset/trainingsetmanipulation.py:943\u001b[0m, in \u001b[0;36mcreate_training_dataset\u001b[0;34m(config, num_shuffles, Shuffles, windows2linux, userfeedback, trainIndices, testIndices, net_type, detector_type, augmenter_type, posecfg_template, superanimal_name, weight_init, engine)\u001b[0m\n\u001b[1;32m    937\u001b[0m     warnings\u001b[38;5;241m.\u001b[39mwarn(\n\u001b[1;32m    938\u001b[0m         \u001b[38;5;124m\"\u001b[39m\u001b[38;5;124m`windows2linux` has no effect since 2.2.0.4 and will be removed in 2.2.1.\u001b[39m\u001b[38;5;124m\"\u001b[39m,\n\u001b[1;32m    939\u001b[0m         \u001b[38;5;167;01mFutureWarning\u001b[39;00m,\n\u001b[1;32m    940\u001b[0m     )\n\u001b[1;32m    942\u001b[0m \u001b[38;5;66;03m# Loading metadata from config file:\u001b[39;00m\n\u001b[0;32m--> 943\u001b[0m cfg \u001b[38;5;241m=\u001b[39m \u001b[43mauxiliaryfunctions\u001b[49m\u001b[38;5;241;43m.\u001b[39;49m\u001b[43mread_config\u001b[49m\u001b[43m(\u001b[49m\u001b[43mconfig\u001b[49m\u001b[43m)\u001b[49m\n\u001b[1;32m    944\u001b[0m dlc_root_path \u001b[38;5;241m=\u001b[39m auxiliaryfunctions\u001b[38;5;241m.\u001b[39mget_deeplabcut_path()\n\u001b[1;32m    946\u001b[0m \u001b[38;5;28;01mif\u001b[39;00m superanimal_name \u001b[38;5;241m!=\u001b[39m \u001b[38;5;124m\"\u001b[39m\u001b[38;5;124m\"\u001b[39m:\n\u001b[1;32m    947\u001b[0m     \u001b[38;5;66;03m# FIXME(niels): this is deprecated\u001b[39;00m\n",
      "File \u001b[0;32m~/mambaforge/envs/DEEPLABCUT/lib/python3.10/site-packages/deeplabcut/utils/auxiliaryfunctions.py:238\u001b[0m, in \u001b[0;36mread_config\u001b[0;34m(configname)\u001b[0m\n\u001b[1;32m    235\u001b[0m                 \u001b[38;5;28;01mraise\u001b[39;00m\n\u001b[1;32m    237\u001b[0m \u001b[38;5;28;01melse\u001b[39;00m:\n\u001b[0;32m--> 238\u001b[0m     \u001b[38;5;28;01mraise\u001b[39;00m \u001b[38;5;167;01mFileNotFoundError\u001b[39;00m(\n\u001b[1;32m    239\u001b[0m         \u001b[38;5;124mf\u001b[39m\u001b[38;5;124m\"\u001b[39m\u001b[38;5;124mConfig file at \u001b[39m\u001b[38;5;132;01m{\u001b[39;00mpath\u001b[38;5;132;01m}\u001b[39;00m\u001b[38;5;124m not found. Please make sure that the file exists and/or that you passed the path of the config file correctly!\u001b[39m\u001b[38;5;124m\"\u001b[39m\n\u001b[1;32m    240\u001b[0m     )\n\u001b[1;32m    241\u001b[0m \u001b[38;5;28;01mreturn\u001b[39;00m cfg\n",
      "\u001b[0;31mFileNotFoundError\u001b[0m: Config file at config.yaml not found. Please make sure that the file exists and/or that you passed the path of the config file correctly!"
     ]
    }
   ],
   "source": [
    "# There are many more functions you can set here, including which network you use\n",
    "# check the docstring for full options you can use\n",
    "deeplabcut.create_training_dataset(path_config_file, net_type='resnet_50', augmenter_type='imgaug')"
   ]
  },
  {
   "cell_type": "markdown",
   "metadata": {
    "colab_type": "text",
    "id": "c4FczXGDoEJU"
   },
   "source": [
    "## Start training:\n",
    "This function trains the network for a specific shuffle of the training dataset. "
   ]
  },
  {
   "cell_type": "code",
   "execution_count": null,
   "metadata": {
    "colab": {},
    "colab_type": "code",
    "id": "_pOvDq_2oEJW",
    "scrolled": true
   },
   "outputs": [],
   "source": [
    "# Typically, you want to train to 200,000 + iterations.\n",
    "# more info and there are more things you can set: https://github.com/AlexEMG/DeepLabCut/blob/master/docs/functionDetails.md#g-train-the-network\n",
    "\n",
    "deeplabcut.train_network(path_config_file, shuffle=1, displayiters=100,saveiters=500)\n",
    "\n",
    "# This will run until you stop it (CTRL+C), or hit \"STOP\" icon, or when it hits the end (default, 1.03M iterations). \n",
    "# Whichever you chose, you will see what looks like an error message, but it's not an error - don't worry...."
   ]
  },
  {
   "cell_type": "markdown",
   "metadata": {
    "colab_type": "text",
    "id": "RiDwIVf5-3H_"
   },
   "source": [
    "**When you hit \"STOP\" you will get a KeyInterrupt \"error\"! No worries! :)**"
   ]
  },
  {
   "cell_type": "markdown",
   "metadata": {
    "colab_type": "text",
    "id": "xZygsb2DoEJc"
   },
   "source": [
    "## Start evaluating:\n",
    "This funtion evaluates a trained model for a specific shuffle/shuffles at a particular state or all the states on the data set (images)\n",
    "and stores the results as .csv file in a subdirectory under **evaluation-results**"
   ]
  },
  {
   "cell_type": "code",
   "execution_count": null,
   "metadata": {
    "colab": {},
    "colab_type": "code",
    "id": "nv4zlbrnoEJg"
   },
   "outputs": [],
   "source": [
    "%matplotlib notebook\n",
    "deeplabcut.evaluate_network(path_config_file,plotting=True)\n",
    "\n",
    "# Here you want to see a low pixel error! Of course, it can only be as good as the labeler, \n",
    "#so be sure your labels are good! (And you have trained enough ;)"
   ]
  },
  {
   "cell_type": "markdown",
   "metadata": {
    "colab_type": "text",
    "id": "OVFLSKKfoEJk"
   },
   "source": [
    "## Start Analyzing videos: \n",
    "This function analyzes the new video. The user can choose the best model from the evaluation results and specify the correct snapshot index for the variable **snapshotindex** in the **config.yaml** file. Otherwise, by default the most recent snapshot is used to analyse the video.\n",
    "\n",
    "The results are stored in hd5 file in the same directory where the video resides. "
   ]
  },
  {
   "cell_type": "code",
   "execution_count": null,
   "metadata": {},
   "outputs": [],
   "source": [
    "# This is the location of the videos to analyze\n",
    "videofile_path = ['/home/ryan/code/repos/dog-pose-estimation/videos']\n",
    "videofile_path"
   ]
  },
  {
   "cell_type": "code",
   "execution_count": null,
   "metadata": {
    "colab": {},
    "colab_type": "code",
    "id": "Y_LZiS_0oEJl"
   },
   "outputs": [],
   "source": [
    "deeplabcut.analyze_videos(path_config_file,videofile_path, videotype='mov')"
   ]
  },
  {
   "cell_type": "markdown",
   "metadata": {
    "colab_type": "text",
    "id": "8GTiuJESoEKH"
   },
   "source": [
    "## Plot the trajectories of the analyzed videos:\n",
    "This function plots the trajectories of all the body parts across the entire video. Each body part is identified by a unique color."
   ]
  },
  {
   "cell_type": "code",
   "execution_count": null,
   "metadata": {
    "colab": {},
    "colab_type": "code",
    "id": "gX21zZbXoEKJ"
   },
   "outputs": [],
   "source": [
    "deeplabcut.plot_trajectories(path_config_file,videofile_path, videotype='mov')"
   ]
  },
  {
   "cell_type": "markdown",
   "metadata": {
    "colab_type": "text",
    "id": "pqaCw15v8EmB"
   },
   "source": [
    "Now you can look at the plot-poses file and check the \"plot-likelihood.png\" might want to change the \"p-cutoff\" in the config.yaml file so that you have only high confidnece points plotted in the video. i.e. ~0.8 or 0.9. The current default is 0.4. "
   ]
  },
  {
   "cell_type": "markdown",
   "metadata": {
    "colab_type": "text",
    "id": "pCrUvQIvoEKD"
   },
   "source": [
    "## Create labeled video:\n",
    "This funtion is for visualiztion purpose and can be used to create a video in .mp4 format with labels predicted by the network. This video is saved in the same directory where the original video resides. "
   ]
  },
  {
   "cell_type": "code",
   "execution_count": null,
   "metadata": {
    "colab": {},
    "colab_type": "code",
    "id": "6aDF7Q7KoEKE"
   },
   "outputs": [],
   "source": [
    "deeplabcut.create_labeled_video(path_config_file, videofile_path, videotype='mov', draw_skeleton=True)"
   ]
  },
  {
   "cell_type": "code",
   "execution_count": null,
   "metadata": {
    "scrolled": true
   },
   "outputs": [],
   "source": [
    "# PLACEHOLDER: This step is where we will convert to OpenVINO for faster inference \n",
    "# export frozen TF graph (.pb format)\n",
    "deeplabcut.export_model(config_path, iteration=None, shuffle=1, trainingsetindex=0, snapshotindex=None, TFGPUinference=False, overwrite=False, make_tar=True)"
   ]
  }
 ],
 "metadata": {
  "accelerator": "GPU",
  "colab": {
   "collapsed_sections": [],
   "include_colab_link": true,
   "name": "Copy of latest_Colab_TrainNetwork_VideoAnalysis.ipynb",
   "provenance": [],
   "toc_visible": true
  },
  "kernelspec": {
   "display_name": "DEEPLABCUT",
   "language": "python",
   "name": "python3"
  },
  "language_info": {
   "codemirror_mode": {
    "name": "ipython",
    "version": 3
   },
   "file_extension": ".py",
   "mimetype": "text/x-python",
   "name": "python",
   "nbconvert_exporter": "python",
   "pygments_lexer": "ipython3",
   "version": "3.10.16"
  }
 },
 "nbformat": 4,
 "nbformat_minor": 1
}
